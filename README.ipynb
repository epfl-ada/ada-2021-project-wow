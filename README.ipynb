{
 "cells": [
  {
   "cell_type": "markdown",
   "id": "984e731c",
   "metadata": {},
   "source": [
    "<h2><center>Feminism in the media: from coverage to practice</center></h2>"
   ]
  },
  {
   "cell_type": "markdown",
   "id": "bd7dfdfd",
   "metadata": {},
   "source": [
    "Feminism is a range of social movements, political movements, and ideologies that aim to define and establish the political, economic, personal, and social equality of the sexes. Somehow, to this day there are many in the western society that shy away from defining themselves as pro-feminists, and many even oppose it. In fact, feminism is still a very controversial and politicized topic.\n",
    "In this project, we aim to shed a light on the evolution of feminism between 2015 and 2020 and its relation with the media, using the Quotebank dataset. In particular, we would like to analyze the media coverage that feminism is receiving, both in terms of volume and sentiment. Furthermore, we will try to understand whether feminism is also being applied in practice, by looking at the female / male ratio of speakers and comparing the sentiment that is associated to female and male figures."
   ]
  },
  {
   "cell_type": "markdown",
   "id": "c0a3ff97",
   "metadata": {},
   "source": [
    "## Research Questions"
   ]
  },
  {
   "cell_type": "markdown",
   "id": "e382c2e4",
   "metadata": {},
   "source": [
    "#### 1. Exposing the visbility and selectivity biases :\n",
    "\"How much\" are the media talking about feminism, from 2015 to 2020? How do famous media outlets compare with one another (both in terms of volume and in terms of what feminism-related topics are being put forward)?\n",
    "\n",
    "#### 2. Understanding the overall sentiment and exposing the tonality bias:\n",
    "Overall, what opinion do public figures have on feminism? What opinion do specific medias tend to put forward?\n",
    "\n",
    "#### 3. Feminism in practice\n",
    "Overall, what exposure is given to female vs male speakers? How do famous media outlets compare with one another?\n",
    "Is there a difference on the sentiment that is expressed on female vs male figures in on-record talks?"
   ]
  },
  {
   "cell_type": "markdown",
   "id": "b99f101c",
   "metadata": {},
   "source": [
    "## Proposed additional datasets"
   ]
  },
  {
   "cell_type": "markdown",
   "id": "fcad9c8f",
   "metadata": {},
   "source": [
    "We will use one external resource - Wikidata - for enriching the Quotebank data. This will provide extra information about the speakers, like the gender, necessary for some of the suggested analyses. The available data contains additional medatada on ~9M unique Wikidata entities and are stored in a ``.parquet`` file which can be loaded as a pandas dataframe. As this file contains attributes in terms of ``QIDs`` and are thus uninterpretable by humans, we need to map them to meaningful labels by using an available ``.csv`` file. "
   ]
  },
  {
   "cell_type": "markdown",
   "id": "155b99b5",
   "metadata": {},
   "source": [
    "## Methods"
   ]
  },
  {
   "cell_type": "markdown",
   "id": "33750195",
   "metadata": {},
   "source": [
    "One part of this project is doing *topic modelling* - an unsupervised machine learning algorithm for discovering topics in a collection of documents. In order to do topic modelling, we will use Latent Dirichlet Allocation (LDA). LDA is based on two hypotheses: \n",
    "- Each document is represented as a distribution over topics. In other words, every document is a mixture of topics. \n",
    "- Each topic is represented as a distribution over words. In other words, every topic is a mixture of words. \n",
    "\n",
    "LDA is unable to decide on the number of topics, therefore this is a parameter that has to be chosen at implementation. Also, before calssifying the text to particular topics, it is necessary to do tokenization, remove stopwords, lemmatization and stem the words. \n",
    "\n",
    "---\n",
    "\n",
    "Another important part of this project is focused on sentiment analysis. The chosen method is *TextBlob* because it qunatifies two measures:\n",
    "- The **polarity** of a quote - value between $-1$ and $1$ where -1 indicates negative sentiment and +1 indicates positive sentiment.\n",
    "- The **subjectivity** of a quote - value between $0$ and $1$ which indicates the amount of personal opinion and factual information contained in the text.\n",
    "\n"
   ]
  },
  {
   "cell_type": "markdown",
   "id": "1ce50765",
   "metadata": {},
   "source": [
    "## Proposed Timeline"
   ]
  },
  {
   "cell_type": "markdown",
   "id": "7bd846fe",
   "metadata": {},
   "source": []
  },
  {
   "cell_type": "markdown",
   "id": "3b48db29",
   "metadata": {},
   "source": [
    "## Organisation within the team"
   ]
  },
  {
   "cell_type": "markdown",
   "id": "eb8faf34",
   "metadata": {},
   "source": [
    "Below is a list of internal milestones up until project Milestone 3:\n",
    "- **3 Dec: Milestone 1**\n",
    "    - Coverage of feminism (Mihaela)\n",
    "    - Coverage of public figures (Sophie)\n",
    "    - Sentiment analysis about feminism (Seif)\n",
    "    - Sentiment analysis over female and male people (Léo)\n",
    "- **17 Dec: Milestone 1**\n",
    "    - Website creation (Mihaela)\n",
    "    - Merge all individual work in a notebook (Seif)\n",
    "    - Add Data story to website (Sophie)\n",
    "    - Update README file (Léo)"
   ]
  }
 ],
 "metadata": {
  "kernelspec": {
   "display_name": "Python 3 (ipykernel)",
   "language": "python",
   "name": "python3"
  },
  "language_info": {
   "codemirror_mode": {
    "name": "ipython",
    "version": 3
   },
   "file_extension": ".py",
   "mimetype": "text/x-python",
   "name": "python",
   "nbconvert_exporter": "python",
   "pygments_lexer": "ipython3",
   "version": "3.8.8"
  }
 },
 "nbformat": 4,
 "nbformat_minor": 5
}
