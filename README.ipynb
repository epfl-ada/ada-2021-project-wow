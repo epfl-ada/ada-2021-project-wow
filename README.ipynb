{
 "cells": [
  {
   "cell_type": "markdown",
   "id": "5148af4b",
   "metadata": {},
   "source": [
    "<h2><center>Feminism in the media: from coverage to practice</center></h2>"
   ]
  },
  {
   "cell_type": "markdown",
   "id": "5989531d",
   "metadata": {},
   "source": [
    "Feminism is a range of social movements, political movements, and ideologies that aim to define and establish the political, economic, personal, and social equality of the sexes. Somehow, to this day there are many in the western society that shy away from defining themselves as pro-feminists, and many even oppose it. In fact, feminism is still a very controversial and politicized topic.\n",
    "In this project, we aim to shed a light on the evolution of feminism between 2015 and 2020 and its relation with the media, using the Quotebank dataset. In particular, we would like to analyze the media coverage that feminism is receiving, both in terms of volume and sentiment. Furthermore, we will try to understand whether feminism is also being applied in practice by each media outlet."
   ]
  },
  {
   "cell_type": "markdown",
   "id": "975808e2",
   "metadata": {},
   "source": [
    "## Research Questions"
   ]
  },
  {
   "cell_type": "markdown",
   "id": "bb34ba0b",
   "metadata": {},
   "source": [
    "#### 1. Media coverage of feminism over time\n",
    "\"How much\" are the media outlets talking about feminism? Does it evolve over time and how? How do the most popular media outlets compare with one another? \n",
    "\n",
    "#### 2. Sub-topic coverage\n",
    "What feminism-related topics are being put forward by the most popular medias?\n",
    "\n",
    "#### 3. The general sentiment over feminism:\n",
    "Overall, what opinion do public figures have on feminism? What opinion do specific medias tend to put forward?\n",
    "\n",
    "#### 4. Feminism \"in practice\"\n",
    "Having studied \"the popularity\" of feminism and its sub-topics, we now investigate gender equality in practice.\n",
    "\n",
    "Overall, what exposure is given to female vs male speakers in the media? How do the most popular media outlets compare with one another?\n",
    "In the most popular media, is there a difference on the sentiment expressed when public figures talk about other female vs male individuals?\n",
    "\n",
    "#### Note on vocabulary:\n",
    "The term \"public figures\" identifies all author of a quote present in the Quotebank dataset."
   ]
  },
  {
   "cell_type": "markdown",
   "id": "3b75e7ab",
   "metadata": {},
   "source": [
    "## Proposed additional datasets"
   ]
  },
  {
   "cell_type": "markdown",
   "id": "d8891dc3",
   "metadata": {},
   "source": [
    "We will use one external resource - Wikidata - for enriching the Quotebank data. This will provide extra information about the speakers, like the gender, necessary for some of the suggested analyses. The available data contains additional medatada on ~9M unique Wikidata entities and are stored in a ``.parquet`` file which can be loaded as a pandas dataframe. As this file contains attributes in terms of ``QIDs`` and are thus uninterpretable by humans, we need to map them to meaningful labels by using an available ``.csv`` file. \n",
    "\n",
    "TO ADD: DATASET CONTAINING ENGLISH NAMES WITH GENDER"
   ]
  },
  {
   "cell_type": "markdown",
   "id": "24fa9391",
   "metadata": {},
   "source": [
    "## Methods"
   ]
  },
  {
   "cell_type": "markdown",
   "id": "babb4aa3",
   "metadata": {},
   "source": [
    "To address the aforementioned research questions, we will use two dataframes.\n",
    "\n",
    "DF1\n",
    "\n",
    "\n",
    "#### 1. Media coverage of feminism over time\n",
    "\"How much\" are the media outlets talking about feminism? Does it evolve over time and how? How do the most popular media outlets compare with one another? \n",
    "\n",
    "#### 2. Sub-topic coverage\n",
    "What feminism-related topics are being put forward by the most popular medias?\n",
    "\n",
    "#### 3. The general sentiment over feminism:\n",
    "Overall, what opinion do public figures have on feminism? What opinion do specific medias tend to put forward?\n",
    "\n",
    "#### 4. Feminism \"in practice\"\n",
    "Having studied \"the popularity\" of feminism and its sub-topics, we now investigate gender equality in practice.\n",
    "\n",
    "Overall, what exposure is given to female vs male speakers in the media? How do the most popular media outlets compare with one another?\n",
    "In the most popular media, is there a difference on the sentiment expressed when public figures talk about other female vs male individuals?\n",
    "\n",
    "#### Note on vocabulary:\n",
    "The term \"public figures\" identifies all author of a quote present in the Quotebank dataset.\n",
    "\n",
    "\n",
    "One part of this project is doing *topic modelling* - an unsupervised machine learning algorithm for discovering topics in a collection of documents. In order to do topic modelling, we will use Latent Dirichlet Allocation (LDA). LDA is based on two hypotheses: \n",
    "- Each document is represented as a distribution over topics. In other words, every document is a mixture of topics. \n",
    "- Each topic is represented as a distribution over words. In other words, every topic is a mixture of words. \n",
    "\n",
    "LDA is unable to decide on the number of topics, therefore this is a parameter that has to be chosen at implementation. Also, before calssifying the text to particular topics, it is necessary to do tokenization, remove stopwords, lemmatization and stem the words. \n",
    "\n",
    "---\n",
    "\n",
    "Another important part of this project is focused on sentiment analysis. The chosen method is *TextBlob* because it qunatifies two measures:\n",
    "- The **polarity** of a quote - value between $-1$ and $1$ where -1 indicates negative sentiment and +1 indicates positive sentiment.\n",
    "- The **subjectivity** of a quote - value between $0$ and $1$ which indicates the amount of personal opinion and factual information contained in the text.\n",
    "\n"
   ]
  },
  {
   "cell_type": "markdown",
   "id": "c45d9f4a",
   "metadata": {},
   "source": [
    "## Proposed Timeline and Organisation within the team"
   ]
  },
  {
   "cell_type": "markdown",
   "id": "647846dc",
   "metadata": {},
   "source": [
    "Project Milestone 3 is due on the 17th of December, in 5 weeks. We have grouped the research questions in 4 topics. All questions shall be answered two weeks before the deadline, in order to have plenty of time to nicely present the results. The work in the first 3 weeks shall be organized as follows: each question shall be addressed by a pair of two teammates; the first two sets of questions will be answered in the first week and a half, the remaining two sets will be answered by the end of the third week. Below is the resulting list of internal milestones up until project Milestone 3.\n",
    "\n",
    "- **24/11:**\n",
    "    - Media coverage of feminism over time (Seif, Sophie)\n",
    "    - Sub-topic coverage (Mihaela, Léo)\n",
    "    \n",
    "- **4/12:**\n",
    "    - The general sentiment over feminism (Seif, Léo)\n",
    "    - Feminism \"in practice\" (Sophie, Mihaela)\n",
    "\n",
    "- **11/12:**\n",
    "    - Presentation of results (website creation, story written, README updated...)\n",
    "    \n",
    "The last week is left as safety margin. The story will be written by the whole group, each member will work on the subject that he addressed."
   ]
  }
 ],
 "metadata": {
  "kernelspec": {
   "display_name": "Python 3 (ipykernel)",
   "language": "python",
   "name": "python3"
  },
  "language_info": {
   "codemirror_mode": {
    "name": "ipython",
    "version": 3
   },
   "file_extension": ".py",
   "mimetype": "text/x-python",
   "name": "python",
   "nbconvert_exporter": "python",
   "pygments_lexer": "ipython3",
   "version": "3.8.8"
  }
 },
 "nbformat": 4,
 "nbformat_minor": 5
}
